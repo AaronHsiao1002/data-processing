{
 "cells": [
  {
   "cell_type": "code",
   "execution_count": null,
   "metadata": {
    "collapsed": true
   },
   "outputs": [],
   "source": [
    "from unqlite import UnQLite\n",
    "\n",
    "db = UnQLite('sample.db')\n",
    "data = db.collection('data')"
   ]
  },
  {
   "cell_type": "code",
   "execution_count": 39,
   "metadata": {
    "collapsed": true
   },
   "outputs": [],
   "source": [
    "# Graded Cell, PartID: o1flK\n",
    "\"\"\"\n",
    "This functionsearches the ‘collection’ given to find all the business present in the city provided in‘cityToSearch’ and save it to ‘saveLocation1’. For each business you found, you shouldstore the name, full address, city, and state of the business in the following format. Eachline of the saved file will contain: Name$FullAddress$City$State. ($ is the separator andmust be present.)\n",
    "\"\"\"\n",
    "def FindBusinessBasedOnCity(cityToSearch, saveLocation1, collection):\n",
    "    \n",
    "    businesses = []\n",
    "    for idx in range(len(collection.all())):\n",
    "        data_point = collection.fetch(idx)\n",
    "        \n",
    "        if data_point['city'] == cityToSearch:\n",
    "            businesses.append([data_point['name'], data_point['full_address'], data_point['city'], data_point['state']])\n",
    "    \n",
    "    writeToFile(saveLocation1, businesses)\n",
    "\n",
    "\"\"\"\n",
    "This function searches the ‘collection’ given to find thename of all the businesses present in the ‘maxDistance’ from the given ‘myLocation’(please use the distance algorithm given below) and save them to ‘saveLocation2’. Eachline of the output file will contain the name of the business only.\n",
    "\"\"\"\n",
    "def FindBusinessBasedOnLocation(categoriesToSearch, myLocation, maxDistance,saveLocation2, collection):\n",
    "    pass\n",
    "\n",
    "def writeToFile(filename, rows):\n",
    "    f = open(filename, 'w')\n",
    "    for line in rows:\n",
    "        f.write('$'.join(str(s) for s in line))\n",
    "        f.write('\\n')\n",
    "    f.close()"
   ]
  },
  {
   "cell_type": "code",
   "execution_count": 40,
   "metadata": {
    "tags": []
   },
   "outputs": [
    {
     "output_type": "stream",
     "name": "stdout",
     "text": "{'business_id': 'MPyxaNVuWlAQqJ0iKV5rQw', 'type': 'business', 'state': 'AZ', 'latitude': 33.3482589, 'name': \"VinciTorio's Restaurant\", 'full_address': '1835 E Elliot Rd, Ste C109, Tempe, AZ 85284', 'categories': ['Restaurants', 'Buffets', 'Italian'], 'open': True, 'stars': 4, 'city': 'Tempe', 'neighborhoods': [], '__id': 0, 'review_count': 122, 'longitude': -111.9088346}\n{'business_id': 'uVnDZWkfGsm5wsPOpAYLWw', 'type': 'business', 'state': 'AZ', 'latitude': 33.3388677, 'name': 'Salt Creek Home', 'full_address': '1725 W Ruby Dr, Tempe, AZ 85284', 'categories': ['Shopping', 'Home & Garden', 'Furniture Stores'], 'open': True, 'stars': 1, 'city': 'Tempe', 'neighborhoods': [], '__id': 13, 'review_count': 4, 'longitude': -111.9693576}\n{'business_id': 'ApEvXLmsPMWsUVEfPkrmfg', 'type': 'business', 'state': 'AZ', 'latitude': 33.3501281, 'name': 'P.croissants', 'full_address': '7520 S Rural Rd, Tempe, AZ 85283', 'categories': ['Bakeries', 'Food', 'Breakfast & Brunch', 'Restaurants'], 'open': True, 'stars': 3, 'city': 'Tempe', 'neighborhoods': [], '__id': 14, 'review_count': 43, 'longitude': -111.9286947}\n"
    }
   ],
   "source": [
    "true_results = [\"VinciTorio's Restaurant$1835 E Elliot Rd, Ste C109, Tempe, AZ 85284$Tempe$AZ\", \"P.croissants$7520 S Rural Rd, Tempe, AZ 85283$Tempe$AZ\", \"Salt Creek Home$1725 W Ruby Dr, Tempe, AZ 85284Tempe$AZ\"]\n",
    "\n",
    "try:\n",
    "    FindBusinessBasedOnCity('Tempe', 'output_city.txt', data)\n",
    "except NameError as e:\n",
    "    print ('The FindBusinessBasedOnCity function is not defined! You must run the cell containing the function before running this evaluation cell.')\n",
    "except TypeError as e:\n",
    "    print (\"The FindBusinessBasedOnCity function is supposed to accept three arguments. Yours does not!\")\n",
    "    \n",
    "try:\n",
    "    opf = open('output_city.txt', 'r')\n",
    "except FileNotFoundError as e:\n",
    "    print (\"The FindBusinessBasedOnCity function does not write data to the correct location.\")\n",
    "    \n",
    "lines = opf.readlines()\n",
    "if len(lines) != 3:\n",
    "    print (\"The FindBusinessBasedOnCity function does not find the correct number of results, should be 3.\")\n",
    "    \n",
    "lines = [line.strip() for line in lines]\n",
    "if sorted(lines) == sorted(true_results):\n",
    "    print (\"Correct! You FindBusinessByCity function passes these test cases. This does not cover all possible test edge cases, however, so make sure that your function covers them before submitting!\")"
   ]
  },
  {
   "cell_type": "code",
   "execution_count": 41,
   "metadata": {
    "tags": []
   },
   "outputs": [
    {
     "output_type": "stream",
     "name": "stdout",
     "text": "The FindBusinessBasedOnLocation function does not write data to the correct location.\nThe FindBusinessBasedOnLocation function does not find the correct number of results, should be only 1.\n"
    },
    {
     "output_type": "error",
     "ename": "IndexError",
     "evalue": "list index out of range",
     "traceback": [
      "\u001b[0;31m---------------------------------------------------------------------------\u001b[0m",
      "\u001b[0;31mIndexError\u001b[0m                                Traceback (most recent call last)",
      "\u001b[0;32m<ipython-input-41-fa147ffd6b11>\u001b[0m in \u001b[0;36m<module>\u001b[0;34m\u001b[0m\n\u001b[1;32m     17\u001b[0m     \u001b[0mprint\u001b[0m \u001b[0;34m(\u001b[0m\u001b[0;34m\"The FindBusinessBasedOnLocation function does not find the correct number of results, should be only 1.\"\u001b[0m\u001b[0;34m)\u001b[0m\u001b[0;34m\u001b[0m\u001b[0;34m\u001b[0m\u001b[0m\n\u001b[1;32m     18\u001b[0m \u001b[0;34m\u001b[0m\u001b[0m\n\u001b[0;32m---> 19\u001b[0;31m \u001b[0;32mif\u001b[0m \u001b[0mlines\u001b[0m\u001b[0;34m[\u001b[0m\u001b[0;36m0\u001b[0m\u001b[0;34m]\u001b[0m\u001b[0;34m.\u001b[0m\u001b[0mstrip\u001b[0m\u001b[0;34m(\u001b[0m\u001b[0;34m)\u001b[0m \u001b[0;34m==\u001b[0m \u001b[0mtrue_results\u001b[0m\u001b[0;34m[\u001b[0m\u001b[0;36m0\u001b[0m\u001b[0;34m]\u001b[0m\u001b[0;34m:\u001b[0m\u001b[0;34m\u001b[0m\u001b[0;34m\u001b[0m\u001b[0m\n\u001b[0m\u001b[1;32m     20\u001b[0m     \u001b[0mprint\u001b[0m \u001b[0;34m(\u001b[0m\u001b[0;34m\"Correct! Your FindBusinessBasedOnLocation function passes these test cases. This does not cover all possible edge cases, so make sure your function does before submitting.\"\u001b[0m\u001b[0;34m)\u001b[0m\u001b[0;34m\u001b[0m\u001b[0;34m\u001b[0m\u001b[0m\n",
      "\u001b[0;31mIndexError\u001b[0m: list index out of range"
     ]
    }
   ],
   "source": [
    "true_results = [\"VinciTorio's Restaurant\"]\n",
    "\n",
    "try:\n",
    "    FindBusinessBasedOnLocation(['Buffets'], [33.3482589, -111.9088346], 10, 'output_loc.txt', data)\n",
    "except NameError as e: \n",
    "    print ('The FindBusinessBasedOnLocation function is not defined! You must run the cell containing the function before running this evaluation cell.')\n",
    "except TypeError as e:\n",
    "    print (\"The FindBusinessBasedOnLocation function is supposed to accept five arguments. Yours does not!\")\n",
    "    \n",
    "try:\n",
    "    opf = open('output_loc.txt','r')\n",
    "except FileNotFoundError as e:\n",
    "    print (\"The FindBusinessBasedOnLocation function does not write data to the correct location.\")\n",
    "\n",
    "lines = opf.readlines()\n",
    "if len(lines) != 1:\n",
    "    print (\"The FindBusinessBasedOnLocation function does not find the correct number of results, should be only 1.\")\n",
    "\n",
    "if lines[0].strip() == true_results[0]:\n",
    "    print (\"Correct! Your FindBusinessBasedOnLocation function passes these test cases. This does not cover all possible edge cases, so make sure your function does before submitting.\")"
   ]
  },
  {
   "cell_type": "code",
   "execution_count": null,
   "metadata": {},
   "outputs": [],
   "source": []
  }
 ],
 "metadata": {
  "kernelspec": {
   "display_name": "Python 3.7.3 64-bit ('ml_env': conda)",
   "language": "python",
   "name": "python37364bitmlenvconda656166769e554a889b5ed65c9e44b2bd"
  },
  "language_info": {
   "codemirror_mode": {
    "name": "ipython",
    "version": 3
   },
   "file_extension": ".py",
   "mimetype": "text/x-python",
   "name": "python",
   "nbconvert_exporter": "python",
   "pygments_lexer": "ipython3",
   "version": "3.7.3-final"
  }
 },
 "nbformat": 4,
 "nbformat_minor": 2
}
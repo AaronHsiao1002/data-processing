{
 "cells": [
  {
   "cell_type": "code",
   "execution_count": 128,
   "metadata": {
    "collapsed": true
   },
   "outputs": [],
   "source": [
    "from unqlite import UnQLite\n",
    "\n",
    "db = UnQLite('sample.db')\n",
    "data = db.collection('data')"
   ]
  },
  {
   "cell_type": "code",
   "execution_count": 132,
   "metadata": {
    "collapsed": true
   },
   "outputs": [],
   "source": [
    "import math\n",
    "\n",
    "# Graded Cell, PartID: o1flK\n",
    "\"\"\"\n",
    "This functionsearches the ‘collection’ given to find all the business present in the city provided in‘cityToSearch’ and save it to ‘saveLocation1’. For each business you found, you shouldstore the name, full address, city, and state of the business in the following format. Eachline of the saved file will contain: Name$FullAddress$City$State. ($ is the separator andmust be present.)\n",
    "\"\"\"\n",
    "def FindBusinessBasedOnCity(cityToSearch, saveLocation1, collection):\n",
    "    \n",
    "    businesses = []\n",
    "    for idx in range(len(collection.all())):\n",
    "        data_point = collection.fetch(idx)\n",
    "        \n",
    "        if data_point['city'] == cityToSearch:\n",
    "            businesses.append([data_point['name'], data_point['full_address'], data_point['city'], data_point['state']])\n",
    "    \n",
    "    f = open(saveLocation1, 'w')\n",
    "    for attr in businesses:\n",
    "        f.write('$'.join(str(s) for s in attr))\n",
    "        f.write('\\n')\n",
    "    f.close()\n",
    "\n",
    "\"\"\"\n",
    "This function searches the ‘collection’ given to find thename of all the businesses present in the ‘maxDistance’ from the given ‘myLocation’(please use the distance algorithm given below) and save them to ‘saveLocation2’. Eachline of the output file will contain the name of the business only.\n",
    "\"\"\"\n",
    "def FindBusinessBasedOnLocation(categoriesToSearch, myLocation, maxDistance, saveLocation2, collection):\n",
    "    names = []\n",
    "\n",
    "    # get my location\n",
    "    lat1 = myLocation[0]\n",
    "    lon1 = myLocation[1]\n",
    "    \n",
    "    # example category attribute in data point: 'categories': ['Restaurants', 'Buffets', 'Italian']\n",
    "    for idx in range(len(collection.all())):\n",
    "        data_point = collection.fetch(idx)\n",
    "        lat2 = data_point['latitude']\n",
    "        lon2 = data_point['longitude']\n",
    "\n",
    "        # filter by location and category\n",
    "        distance = DistanceFunction(lat2, lon2, lat1, lon1)\n",
    "        if distance <= maxDistance:\n",
    "            for category in categoriesToSearch:\n",
    "                if category in data_point['categories']:\n",
    "                    names.append(data_point['name'])\n",
    "\n",
    "    f = open(saveLocation2, 'w')\n",
    "    for name in names:\n",
    "        f.write(name + '\\n')\n",
    "    f.close()\n",
    "    \n",
    "\n",
    "def DistanceFunction(lat2, lon2, lat1, lon1):\n",
    "    \n",
    "    R = 3959\n",
    "    phi1 = math.radians(lat1)\n",
    "    phi2 = math.radians(lat2)\n",
    "    delta_phi = math.radians(lat2 - lat1)\n",
    "    delta_lambda = math.radians(lon2 - lon1)\n",
    "    a = math.sin(delta_phi/2) * math.sin(delta_phi/2) + math.cos(phi1) * math.cos(phi2) * math.sin(delta_lambda/2)* math.sin(delta_lambda/2)\n",
    "    c = 2 * math.atan2(math.sqrt(a), math.sqrt(1 - a))\n",
    "    d = R * c\n",
    "    return d\n"
   ]
  },
  {
   "cell_type": "code",
   "execution_count": 133,
   "metadata": {
    "tags": []
   },
   "outputs": [],
   "source": [
    "true_results = [\"VinciTorio's Restaurant$1835 E Elliot Rd, Ste C109, Tempe, AZ 85284$Tempe$AZ\", \"P.croissants$7520 S Rural Rd, Tempe, AZ 85283$Tempe$AZ\", \"Salt Creek Home$1725 W Ruby Dr, Tempe, AZ 85284Tempe$AZ\"]\n",
    "\n",
    "try:\n",
    "    FindBusinessBasedOnCity('Tempe', 'output_city.txt', data)\n",
    "except NameError as e:\n",
    "    print ('The FindBusinessBasedOnCity function is not defined! You must run the cell containing the function before running this evaluation cell.')\n",
    "except TypeError as e:\n",
    "    print (\"The FindBusinessBasedOnCity function is supposed to accept three arguments. Yours does not!\")\n",
    "    \n",
    "try:\n",
    "    opf = open('output_city.txt', 'r')\n",
    "except FileNotFoundError as e:\n",
    "    print (\"The FindBusinessBasedOnCity function does not write data to the correct location.\")\n",
    "    \n",
    "lines = opf.readlines()\n",
    "if len(lines) != 3:\n",
    "    print (\"The FindBusinessBasedOnCity function does not find the correct number of results, should be 3.\")\n",
    "    \n",
    "lines = [line.strip() for line in lines]\n",
    "if sorted(lines) == sorted(true_results):\n",
    "    print (\"Correct! You FindBusinessByCity function passes these test cases. This does not cover all possible test edge cases, however, so make sure that your function covers them before submitting!\")"
   ]
  },
  {
   "cell_type": "code",
   "execution_count": 134,
   "metadata": {
    "tags": []
   },
   "outputs": [
    {
     "output_type": "stream",
     "name": "stdout",
     "text": "Correct! Your FindBusinessBasedOnLocation function passes these test cases. This does not cover all possible edge cases, so make sure your function does before submitting.\n"
    }
   ],
   "source": [
    "true_results = [\"VinciTorio's Restaurant\"]\n",
    "\n",
    "try:\n",
    "    FindBusinessBasedOnLocation(['Buffets'], [33.3482589, -111.9088346], 10, 'output_loc.txt', data)\n",
    "except NameError as e: \n",
    "    print ('The FindBusinessBasedOnLocation function is not defined! You must run the cell containing the function before running this evaluation cell.')\n",
    "except TypeError as e:\n",
    "    print (\"The FindBusinessBasedOnLocation function is supposed to accept five arguments. Yours does not!\")\n",
    "    \n",
    "try:\n",
    "    opf = open('output_loc.txt','r')\n",
    "except FileNotFoundError as e:\n",
    "    print (\"The FindBusinessBasedOnLocation function does not write data to the correct location.\")\n",
    "\n",
    "lines = opf.readlines()\n",
    "if len(lines) != 1:\n",
    "    print (\"The FindBusinessBasedOnLocation function does not find the correct number of results, should be only 1.\")\n",
    "\n",
    "if lines[0].strip() == true_results[0]:\n",
    "    print (\"Correct! Your FindBusinessBasedOnLocation function passes these test cases. This does not cover all possible edge cases, so make sure your function does before submitting.\")"
   ]
  },
  {
   "cell_type": "code",
   "execution_count": null,
   "metadata": {},
   "outputs": [],
   "source": []
  }
 ],
 "metadata": {
  "kernelspec": {
   "display_name": "Python 3.7.3 64-bit ('ml_env': conda)",
   "language": "python",
   "name": "python37364bitmlenvconda656166769e554a889b5ed65c9e44b2bd"
  },
  "language_info": {
   "codemirror_mode": {
    "name": "ipython",
    "version": 3
   },
   "file_extension": ".py",
   "mimetype": "text/x-python",
   "name": "python",
   "nbconvert_exporter": "python",
   "pygments_lexer": "ipython3",
   "version": "3.7.3-final"
  }
 },
 "nbformat": 4,
 "nbformat_minor": 2
}